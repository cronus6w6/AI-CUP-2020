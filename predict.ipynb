{
  "nbformat": 4,
  "nbformat_minor": 0,
  "metadata": {
    "colab": {
      "name": "predict",
      "provenance": [],
      "collapsed_sections": [],
      "mount_file_id": "17fqpkQPbH4rKRkiwnE_KELrN44HpHFmr",
      "authorship_tag": "ABX9TyMF7mK4zXH3YBbJz/0RulLh",
      "include_colab_link": true
    },
    "kernelspec": {
      "name": "python3",
      "display_name": "Python 3"
    },
    "accelerator": "GPU"
  },
  "cells": [
    {
      "cell_type": "markdown",
      "metadata": {
        "id": "view-in-github",
        "colab_type": "text"
      },
      "source": [
        "<a href=\"https://colab.research.google.com/github/cronus6w6/AI-CUP-2020/blob/master/predict.ipynb\" target=\"_parent\"><img src=\"https://colab.research.google.com/assets/colab-badge.svg\" alt=\"Open In Colab\"/></a>"
      ]
    },
    {
      "cell_type": "code",
      "metadata": {
        "id": "EPyYOol0FnTo"
      },
      "source": [
        "!pip install transformers"
      ],
      "execution_count": null,
      "outputs": []
    },
    {
      "cell_type": "code",
      "metadata": {
        "id": "0QhjIhRFF2pm"
      },
      "source": [
        "from transformers import *\n",
        "import torch\n",
        "from torch import nn\n",
        "import shutil\n",
        "import pandas as pd\n",
        "import numpy as np\n",
        "from tqdm import tqdm\n",
        "import random"
      ],
      "execution_count": 2,
      "outputs": []
    },
    {
      "cell_type": "code",
      "metadata": {
        "id": "zIg8pHtoGBAP"
      },
      "source": [
        "test_data_path = \"testset.csv\" #test dataset path\n",
        "model_state_path = \"model_state\" #model state path, output from predict\n",
        "LABELS = [\"THEORETICAL\", \"ENGINEERING\", \"EMPIRICAL\", \"OTHERS\"]\n",
        "thresholds = [0.35, 0.3, 0.25, 0.35]\n",
        "batch = 100"
      ],
      "execution_count": 16,
      "outputs": []
    },
    {
      "cell_type": "code",
      "metadata": {
        "id": "4wo__rLiGEoh"
      },
      "source": [
        "device = torch.device(\"cuda:0\" if torch.cuda.is_available() else \"cpu\")"
      ],
      "execution_count": 5,
      "outputs": []
    },
    {
      "cell_type": "code",
      "metadata": {
        "id": "wYZ7Nqd5GHh7"
      },
      "source": [
        "tokenizer = AutoTokenizer.from_pretrained('allenai/scibert_scivocab_uncased')"
      ],
      "execution_count": null,
      "outputs": []
    },
    {
      "cell_type": "code",
      "metadata": {
        "id": "kOtZXUfDGJEu"
      },
      "source": [
        "class _DataSet(torch.utils.data.Dataset):\n",
        "  def __init__(self, inp_data: pd.DataFrame):\n",
        "    title_indices = []\n",
        "    title_segments = []\n",
        "    abstract_indices = []\n",
        "    abstract_segments = []\n",
        "    self.return_labels = \"Classifications\" in inp_data.columns\n",
        "    if self.return_labels:\n",
        "      labels = []\n",
        "    for _, row in tqdm(inp_data.iterrows(), total=len(inp_data)):\n",
        "      # index, segment = tokenizer.encode(row.Title + \"[SEP]\" + row.Abstract.replace(\"$$$\", \"[SEP]\"), max_len=512)\n",
        "      title_index = tokenizer.encode(row.Title, max_length=512, padding=\"max_length\")\n",
        "      abstract_index = tokenizer.encode(row.Abstract, max_length=512, padding=\"max_length\", truncation=True)\n",
        "      title_indices.append(title_index)\n",
        "      abstract_indices.append(abstract_index)\n",
        "      if self.return_labels:\n",
        "        labels.append(list(map(lambda l: 1 if l in row.Classifications.split(\" \") else 0, LABELS)))\n",
        "        self.labels = torch.tensor(labels, dtype=torch.float32, device=device)\n",
        "    self.title_indices = torch.tensor(title_indices, dtype=torch.long, device=device)\n",
        "    self.title_segments = torch.zeros(self.title_indices.size(), dtype=torch.long, device=device)\n",
        "    self.abstract_indices = torch.tensor(abstract_indices, dtype=torch.long, device=device)\n",
        "    self.abstract_segments = torch.zeros(self.abstract_indices.size(), dtype=torch.long, device=device)\n",
        "  def __getitem__(self, index):\n",
        "    if self.return_labels:\n",
        "      return ({\n",
        "        \"title_indices\": self.title_indices[index],\n",
        "        \"title_segments\": self.title_segments[index],\n",
        "        \"abstract_indices\": self.abstract_indices[index],\n",
        "        \"abstract_segments\": self.abstract_segments[index]\n",
        "      }, self.labels[index])\n",
        "    return {\n",
        "      \"title_indices\": self.title_indices[index],\n",
        "      \"title_segments\": self.title_segments[index],\n",
        "      \"abstract_indices\": self.abstract_indices[index],\n",
        "      \"abstract_segments\": self.abstract_segments[index]\n",
        "    }\n",
        "  def __len__(self):\n",
        "    return len(self.title_indices)"
      ],
      "execution_count": 7,
      "outputs": []
    },
    {
      "cell_type": "code",
      "metadata": {
        "id": "fjo73RMcGNlS"
      },
      "source": [
        "testset = pd.read_csv(test_data_path)\n",
        "testset.Abstract = testset.Abstract.str.replace(\"\\$\\$\\$\", \" \")\n",
        "test_data = _DataSet(testset)"
      ],
      "execution_count": null,
      "outputs": []
    },
    {
      "cell_type": "code",
      "metadata": {
        "id": "qJGtG1IhGPa6"
      },
      "source": [
        "test_dataloader = torch.utils.data.DataLoader(test_data, batch)"
      ],
      "execution_count": 17,
      "outputs": []
    },
    {
      "cell_type": "code",
      "metadata": {
        "id": "NbTYLOvfGUiV"
      },
      "source": [
        "class MultiClassificationModel(nn.Module):\n",
        "  def __init__(self, encoder, embs_num=768, class_num=4, hidden_unit=64, encoder_dropout=0.2, hidden_dropout=0.2):\n",
        "    super(MultiClassificationModel, self).__init__()\n",
        "    \n",
        "    self.encoder = encoder\n",
        "    self.encoder_dropout = nn.Dropout(encoder_dropout)\n",
        "    self.classifier = nn.Sequential(\n",
        "        nn.Linear(embs_num * 2, hidden_unit),\n",
        "        nn.GELU(),\n",
        "        nn.Dropout(hidden_dropout),\n",
        "        nn.Linear(hidden_unit, class_num)\n",
        "    )\n",
        "  def forward(self, title_indices, title_segments, abstract_indices, abstract_segments):\n",
        "    title_embs = self.encoder(title_indices, token_type_ids=title_segments)[0][:, 0, :]\n",
        "    abstract_embs = self.encoder(abstract_indices, token_type_ids=abstract_segments)[0][:, 0, :]\n",
        "    \n",
        "    embs = torch.cat([title_embs, abstract_embs], 1)\n",
        "    result = self.classifier(embs)\n",
        "    return result"
      ],
      "execution_count": 10,
      "outputs": []
    },
    {
      "cell_type": "code",
      "metadata": {
        "id": "2u6Z3TXsGbZe"
      },
      "source": [
        "try:\n",
        "  model.cpu() \n",
        "except:\n",
        "  pass\n",
        "scibert = AutoModel.from_pretrained('allenai/scibert_scivocab_uncased')\n",
        "model = MultiClassificationModel(scibert)\n",
        "model.load_state_dict(torch.load(model_state_path, map_location=device))\n",
        "model.to(device)"
      ],
      "execution_count": null,
      "outputs": []
    },
    {
      "cell_type": "code",
      "metadata": {
        "id": "ChmCAozvKFZ2"
      },
      "source": [
        "thrld = torch.tensor(thresholds, dtype=torch.float, device=device).expand((batch, 4))"
      ],
      "execution_count": 18,
      "outputs": []
    },
    {
      "cell_type": "code",
      "metadata": {
        "id": "TK1EDtFjCpyr"
      },
      "source": [
        "ans = []\r\n",
        "with torch.no_grad():\r\n",
        "  for data in tqdm(test_dataloader, total=len(test_dataloader)):\r\n",
        "    result = model(**data)\r\n",
        "    result = torch.sigmoid(result)\r\n",
        "    result = (result > thrld).int()\r\n",
        "    ans.extend(result.tolist())"
      ],
      "execution_count": null,
      "outputs": []
    },
    {
      "cell_type": "code",
      "metadata": {
        "id": "GClQw1fKL5hr"
      },
      "source": [
        "out = pd.DataFrame(ans)"
      ],
      "execution_count": 20,
      "outputs": []
    },
    {
      "cell_type": "code",
      "metadata": {
        "id": "WI3U9B0fMA5Q"
      },
      "source": [
        "out.columns = LABELS"
      ],
      "execution_count": 21,
      "outputs": []
    },
    {
      "cell_type": "code",
      "metadata": {
        "id": "Fi95cUS3bXO-"
      },
      "source": [
        "out.insert(0, \"Id\", range(1, len(out) + 1))"
      ],
      "execution_count": 22,
      "outputs": []
    },
    {
      "cell_type": "code",
      "metadata": {
        "id": "qtTQ0XsCb7uS"
      },
      "source": [
        "out.to_csv(\"predict.csv\", index=None)"
      ],
      "execution_count": 23,
      "outputs": []
    }
  ]
}